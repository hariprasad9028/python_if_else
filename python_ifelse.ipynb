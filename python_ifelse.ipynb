{
 "cells": [
  {
   "cell_type": "code",
   "execution_count": 1,
   "metadata": {},
   "outputs": [
    {
     "name": "stdout",
     "output_type": "stream",
     "text": [
      "hari|udhaya|dinesh\n"
     ]
    }
   ],
   "source": [
    "# join\n",
    "para=[\"hari\",\"udhaya\",\"dinesh\"]\n",
    "print('|'.join(para))"
   ]
  },
  {
   "cell_type": "code",
   "execution_count": 5,
   "metadata": {},
   "outputs": [
    {
     "name": "stdout",
     "output_type": "stream",
     "text": [
      "Its ODD number \n"
     ]
    }
   ],
   "source": [
    "# odd or even\n",
    "num=int(input(\"Enter number : \"))\n",
    "if num % 2 == 0:\n",
    "    print(\"Its Even number\")\n",
    "else:\n",
    "    print(\"Its ODD number \")\n",
    "    "
   ]
  },
  {
   "cell_type": "code",
   "execution_count": 14,
   "metadata": {},
   "outputs": [
    {
     "ename": "ValueError",
     "evalue": "invalid literal for int() with base 10: ''",
     "output_type": "error",
     "traceback": [
      "\u001b[1;31m---------------------------------------------------------------------------\u001b[0m",
      "\u001b[1;31mValueError\u001b[0m                                Traceback (most recent call last)",
      "Cell \u001b[1;32mIn[14], line 1\u001b[0m\n\u001b[1;32m----> 1\u001b[0m num\u001b[39m=\u001b[39m\u001b[39mint\u001b[39;49m(\u001b[39minput\u001b[39;49m(\u001b[39m\"\u001b[39;49m\u001b[39mEnter number : \u001b[39;49m\u001b[39m\"\u001b[39;49m))\n\u001b[0;32m      2\u001b[0m \u001b[39mif\u001b[39;00m num\u001b[39m%\u001b[39m\u001b[39m5\u001b[39m\u001b[39m==\u001b[39m\u001b[39m0\u001b[39m:\n\u001b[0;32m      3\u001b[0m     \u001b[39mprint\u001b[39m(\u001b[39m\"\u001b[39m\u001b[39mmultiple with five\u001b[39m\u001b[39m\"\u001b[39m)\n",
      "\u001b[1;31mValueError\u001b[0m: invalid literal for int() with base 10: ''"
     ]
    }
   ],
   "source": [
    "#  find multiple of 5\n",
    "num=int(input(\"Enter number : \"))\n",
    "if num%5==0:\n",
    "    print(\"multiple with five\")\n",
    "else:\n",
    "    print(\"Not multiplt of five\")"
   ]
  },
  {
   "cell_type": "code",
   "execution_count": 20,
   "metadata": {},
   "outputs": [
    {
     "name": "stdout",
     "output_type": "stream",
     "text": [
      "your membership is cancel\n"
     ]
    }
   ],
   "source": [
    "# Electricity bill\n",
    "\n",
    "day=int(input(\"Enter number of days: \"))\n",
    "if day==0:\n",
    "    print(\"your fine amount is \" ,day*0)\n",
    "    \n",
    "elif day >=1 and day <=5:\n",
    "    print(\"your fine amount is \", day*5)\n",
    "    \n",
    "elif day >=6 and day <=10:\n",
    "    print(\"your fine amount is \" ,day*10)\n",
    "    \n",
    "elif day >=11 and day <=15:\n",
    "    print(\"your fine amount is \" ,day*15)\n",
    "    \n",
    "else:\n",
    "    print(\"your membership is cancel\")\n",
    "    "
   ]
  },
  {
   "cell_type": "code",
   "execution_count": 5,
   "metadata": {},
   "outputs": [
    {
     "name": "stdout",
     "output_type": "stream",
     "text": [
      "these numbers make triangle\n"
     ]
    }
   ],
   "source": [
    "# triangle\n",
    "\n",
    "a= int(input(\"Enter the number A :\"))\n",
    "b= int(input(\"Enter the number B :\"))\n",
    "c= int(input(\"Enter the number C :\"))\n",
    "\n",
    "if a+b>c and a+c>b and b+c>a:\n",
    "    print(\"these numbers make triangle\")\n",
    "else:\n",
    "    print(\"these numbers cannot make triangle\")"
   ]
  },
  {
   "cell_type": "code",
   "execution_count": 9,
   "metadata": {},
   "outputs": [
    {
     "name": "stdout",
     "output_type": "stream",
     "text": [
      "9000\n"
     ]
    }
   ],
   "source": [
    "# taxi fare \n",
    "km=int(input(\"Enter the km : \"))\n",
    "if km <= 10:\n",
    "    print(km*11)\n",
    "elif km > 10 and km <=100:\n",
    "    print(km*10)\n",
    "else:\n",
    "    print(km*9)    "
   ]
  },
  {
   "cell_type": "code",
   "execution_count": 14,
   "metadata": {},
   "outputs": [
    {
     "name": "stdout",
     "output_type": "stream",
     "text": [
      "Total : 500\n",
      "Average : 100.0\n",
      "Pass!\n",
      "Grade : A \n"
     ]
    }
   ],
   "source": [
    "# student mark grade\n",
    "s1=int(input(\"Enter mark s1 :\"))\n",
    "s2=int(input(\"Enter mark s2 :\"))\n",
    "s3=int(input(\"Enter mark s3 :\"))\n",
    "s4=int(input(\"Enter mark s4 :\"))\n",
    "s5=int(input(\"Enter mark s5 :\"))\n",
    "\n",
    "total=s1+s2+s3+s4+s5\n",
    "print(\"Total :\",total)\n",
    "\n",
    "avg= total/5\n",
    "print(\"Average :\" ,avg)\n",
    "\n",
    "if s1>=35 and s2>=35 and s3>=35 and s4>=35 and s5>=35:\n",
    "    print(\"Pass!\")\n",
    "    if avg<=100 and avg>=85:\n",
    "        print(\"Grade : A \")\n",
    "    elif avg<=84 and avg>=70:\n",
    "        print(\"Grade : B \")\n",
    "    elif avg<=69 and avg>=55:\n",
    "        print(\"Grade : C \")\n",
    "    elif avg<=54 and avg>=35:\n",
    "        print(\"Grade : D \")\n",
    "\n",
    "else:\n",
    "    print(\"Fail !\")\n",
    "    print(\"No Grade \")"
   ]
  },
  {
   "cell_type": "code",
   "execution_count": null,
   "metadata": {},
   "outputs": [],
   "source": []
  }
 ],
 "metadata": {
  "kernelspec": {
   "display_name": "Python 3",
   "language": "python",
   "name": "python3"
  },
  "language_info": {
   "codemirror_mode": {
    "name": "ipython",
    "version": 3
   },
   "file_extension": ".py",
   "mimetype": "text/x-python",
   "name": "python",
   "nbconvert_exporter": "python",
   "pygments_lexer": "ipython3",
   "version": "3.10.4"
  },
  "orig_nbformat": 4
 },
 "nbformat": 4,
 "nbformat_minor": 2
}
